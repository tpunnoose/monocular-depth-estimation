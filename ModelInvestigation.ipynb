{
 "cells": [
  {
   "cell_type": "code",
   "execution_count": 1,
   "id": "8b96c5c2",
   "metadata": {},
   "outputs": [],
   "source": [
    "%load_ext autoreload\n",
    "%autoreload 2"
   ]
  },
  {
   "cell_type": "code",
   "execution_count": 2,
   "id": "b8a89c96",
   "metadata": {},
   "outputs": [],
   "source": [
    "import torch\n",
    "import torch.nn as nn\n",
    "import torch.nn.functional as F\n",
    "from torch.utils.data import DataLoader\n",
    "import kornia "
   ]
  },
  {
   "cell_type": "code",
   "execution_count": 3,
   "id": "da3b918b",
   "metadata": {},
   "outputs": [],
   "source": [
    "from depth_decoder import DepthDecoder\n",
    "from resnet_encoder import ResnetEncoder\n",
    "\n",
    "encoder = ResnetEncoder(50)\n",
    "decoder = DepthDecoder(encoder.num_ch_enc)"
   ]
  },
  {
   "cell_type": "code",
   "execution_count": 27,
   "id": "a40c128a",
   "metadata": {},
   "outputs": [],
   "source": [
    "from kitti_dataset import KittiStereoDataset\n",
    "\n",
    "data_dir = \"/data-disk/kitti_data/\"\n",
    "train_file = open(\"filenames/kitti_train_files.txt\", \"r\")\n",
    "train_filenames = train_file.readlines()\n",
    "\n",
    "train_dataset = KittiStereoDataset(data_dir, train_filenames, True)\n",
    "batch_size = 2\n",
    "train_dataloader = DataLoader(train_dataset, batch_size=batch_size, shuffle=True)\n",
    "\n",
    "image_l, image_r = next(iter(train_dataloader))"
   ]
  },
  {
   "cell_type": "code",
   "execution_count": 28,
   "id": "70032f69",
   "metadata": {},
   "outputs": [],
   "source": [
    "def test_loss(image_l, image_r):\n",
    "    output_l = decoder(encoder(image_l))\n",
    "    output_r = decoder(encoder(image_r))\n",
    "    \n",
    "    return (output_l, output_r)"
   ]
  },
  {
   "cell_type": "code",
   "execution_count": 29,
   "id": "ab9f2b61",
   "metadata": {},
   "outputs": [],
   "source": [
    "l, r = test_loss(image_l, image_r)"
   ]
  },
  {
   "cell_type": "code",
   "execution_count": 30,
   "id": "e144b2f7",
   "metadata": {},
   "outputs": [
    {
     "data": {
      "text/plain": [
       "torch.Size([2, 1, 192, 640])"
      ]
     },
     "execution_count": 30,
     "metadata": {},
     "output_type": "execute_result"
    }
   ],
   "source": [
    "l[('disp', 0)].size()"
   ]
  },
  {
   "cell_type": "code",
   "execution_count": 91,
   "id": "ab3df992",
   "metadata": {},
   "outputs": [],
   "source": [
    "from loss import StereoDepthLoss, disparity_to_depth\n",
    "import numpy as np"
   ]
  },
  {
   "cell_type": "code",
   "execution_count": 92,
   "id": "66276929",
   "metadata": {},
   "outputs": [],
   "source": [
    "K = np.array([[718.856 ,   0.    , 607.1928],\n",
    "               [  0.    , 718.856 , 185.2157],\n",
    "               [  0.    ,   0.    ,   1.    ]])\n",
    "b = 0.5372\n",
    "\n",
    "batch_loss = StereoDepthLoss(K, b, 192, 640, batch_size)"
   ]
  },
  {
   "cell_type": "code",
   "execution_count": 93,
   "id": "eb7bc630",
   "metadata": {},
   "outputs": [
    {
     "data": {
      "text/plain": [
       "tensor(27.6648, dtype=torch.float64, grad_fn=<AddBackward0>)"
      ]
     },
     "execution_count": 93,
     "metadata": {},
     "output_type": "execute_result"
    }
   ],
   "source": [
    "output_l = l[('disp', 0)]\n",
    "output_r = r[('disp', 0)]\n",
    "\n",
    "batch_loss.calculate_loss((image_l.double(), image_r.double()), (output_l, output_r))"
   ]
  },
  {
   "cell_type": "code",
   "execution_count": 90,
   "id": "6dfbe939",
   "metadata": {},
   "outputs": [
    {
     "name": "stdout",
     "output_type": "stream",
     "text": [
      "torch.float32\n"
     ]
    }
   ],
   "source": [
    "promoted_type = torch.promote_types(image_l.dtype, output_l.dtype)"
   ]
  },
  {
   "cell_type": "code",
   "execution_count": null,
   "id": "0c337a0c",
   "metadata": {},
   "outputs": [],
   "source": []
  }
 ],
 "metadata": {
  "kernelspec": {
   "display_name": "Python [conda env:root] *",
   "language": "python",
   "name": "conda-root-py"
  },
  "language_info": {
   "codemirror_mode": {
    "name": "ipython",
    "version": 3
   },
   "file_extension": ".py",
   "mimetype": "text/x-python",
   "name": "python",
   "nbconvert_exporter": "python",
   "pygments_lexer": "ipython3",
   "version": "3.7.10"
  }
 },
 "nbformat": 4,
 "nbformat_minor": 5
}
